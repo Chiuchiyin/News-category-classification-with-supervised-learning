{
 "cells": [
  {
   "cell_type": "markdown",
   "metadata": {
    "id": "2zqcotaDZtB7"
   },
   "source": [
    "# News Category Classification with Supervised Learning\n",
    "**Kevin Juandi**   --   **2024-03-21**\n",
    "\n",
    "A report focused on modeling news article categorization for marketing analytics. This notebook focuses on the application of natural language processing, supervised learning with [k-train](https://github.com/amaiya/ktrain) (a wrapper for [Tensorflow](https://www.tensorflow.org/api_docs/python/tf/all_symbols), [Keras](https://keras.io/getting_started/), and [Huggingface Transformers](https://github.com/huggingface/transformers)), and a evaluation of performance.\n",
    "\n",
    "--  [Github Repo](https://github.com/Chiuchiyin/News-category-classification-with-supervised-learning/blob/main/News_category_classification_with_supervised_learning.ipynb)  --"
   ]
  },
  {
   "cell_type": "markdown",
   "metadata": {
    "id": "mhOmqP8XhQvz"
   },
   "source": [
    "## Introduction\n",
    "**Context**\n",
    "A media buying company has acquired a new customer [Theragun](https://www.therabody.com/us/en-us/4th-generation-devices/), a company developing wellness products backed by science and developed by medical experts. Theragun knows that consumers who value health and wellness are more likely to consider, and ultimately buy their product. They have requested their media buying company partner identify as many news articles around the web that mention health and wellness. Their goal is to feature advertisements on these pages to reach as many customers as possible.\n",
    "\n",
    "**Background**\n",
    "Text and text documents are one of the richest sources of data for businesses. They are websites, pdfs, news articles, etc. A strategy utilized by marketing firms is contextual advertising. It focused on using marketing analytics to find URLs that match the context required to target an advertisement to potential customers. The main challenge is to build an algorithm that successfully predicts the probability that a website is related to the desired context. The final trained model can be used to identify tags for untracked websites or to identify the type of language used in different websites.\n",
    "\n",
    "**Data Source**\n",
    "The dataset contains around 200k news headlines from the year 2012 to 2018 obtained from [HuffPost](https://www.huffpost.com/). It can be sourced [here](https://drive.google.com/file/d/1jnucfZWLPmxG4UzPtgd-dRe_Z9tPo60V/view?usp=sharing).\n",
    "\n",
    "**Categories**\n",
    "Each news headline has a corresponding category. The articles are labeled under one of 41 categories. A sample of the categories is as follows:\n",
    "- WELLNESS: 17827\n",
    "- HEALTHY LIVING: 6694\n",
    "- ...\n",
    "- POLITICS: 32739\n",
    "- TECH: 2082\n",
    "\n",
    "**Overview of Observations**\n",
    "The dataset is 200k records that will need to be broken into training data and test data. Each observation is the headline text, short description, and category of an article with an associated article id.\n",
    "\n",
    "**Objective**\n",
    "The objective is to build a deep learning algorithm that predicts the probability that a news story is about health and wellness. Final evaluation will use Sensativity (also known as \"Recall\") to maximize the number of targeted news articles. Sensativity is the percent of cases where the model prediction is correct, when the actual value is positive.\n",
    "\n",
    "**Report Overview**\n",
    "The project will cover 5 key phases:\n",
    "1. Exploratory Data Analysis (EDA)\n",
    "2. Data Cleaning\n",
    "3. Extracting Word Features with Natural Language Processing (NLP) Tools\n",
    "4. Building and Training a Supervised Learning Model"
   ]
  },
  {
   "cell_type": "markdown",
   "metadata": {
    "id": "w5j2-NSDhbHQ"
   },
   "source": [
    "## Loading Dependencies\n",
    "The following python libraries are used in this notebook."
   ]
  },
  {
   "cell_type": "code",
   "execution_count": 1,
   "metadata": {
    "ExecuteTime": {
     "end_time": "2024-03-19T20:21:36.575385Z",
     "start_time": "2024-03-19T20:21:36.230877Z"
    },
    "colab": {
     "base_uri": "https://localhost:8080/"
    },
    "id": "I4t_R6AoZAWr",
    "outputId": "38245a3d-1225-4341-d72f-7eb32d27e229"
   },
   "outputs": [
    {
     "name": "stdout",
     "output_type": "stream",
     "text": [
      "2.10.1\n"
     ]
    }
   ],
   "source": [
    "# File Connection and File Manipulation\n",
    "import os\n",
    "import time\n",
    "import pickle\n",
    "import json\n",
    "import glob\n",
    "# Basic Data Science Toolkits\n",
    "import pandas as pd\n",
    "import numpy as np\n",
    "import math\n",
    "import time\n",
    "# Basic Data Vizualization\n",
    "import seaborn as sns\n",
    "import matplotlib.pyplot as plt\n",
    "# Import Data Model Evaluations\n",
    "from sklearn.model_selection import train_test_split\n",
    "from sklearn import metrics\n",
    "# NLP Tokenizer\n",
    "from transformers import AutoTokenizer, TFAutoModelForSequenceClassification\n",
    "from keras.preprocessing.text import Tokenizer\n",
    "# Google's Tensorflow package\n",
    "# https://www.tensorflow.org/tutorials\n",
    "import tensorflow as tf\n",
    "print(tf.__version__)\n",
    "# API wrapper for Tensorflow called ktrain\n",
    "# https://github.com/amaiya/ktrain\n",
    "import ktrain\n",
    "from ktrain import text\n",
    "from ktrain.text import texts_from_df\n",
    "#NLP Text Cleanup\n",
    "import re\n",
    "import nltk\n",
    "import nltk.corpus\n",
    "from nltk.corpus import stopwords\n",
    "\n",
    "# NLP Tokenizer and Lemmatizer\n",
    "import nltk\n",
    "import nltk.corpus\n",
    "from nltk.corpus import wordnet\n",
    "from nltk.tokenize import word_tokenize\n",
    "from nltk.stem import WordNetLemmatizer\n",
    "from string import digits\n",
    "\n",
    "import warnings\n",
    "warnings.simplefilter(action = 'ignore', category = FutureWarning)\n",
    "warnings.simplefilter(action = 'ignore', category = Warning)"
   ]
  },
  {
   "cell_type": "code",
   "execution_count": 2,
   "metadata": {
    "colab": {
     "base_uri": "https://localhost:8080/"
    },
    "id": "9bblL_QUbvpy",
    "outputId": "6ae4403b-ecae-49d0-e23c-16eac3068a7e"
   },
   "outputs": [
    {
     "name": "stderr",
     "output_type": "stream",
     "text": [
      "[nltk_data] Downloading package stopwords to\n",
      "[nltk_data]     C:\\Users\\silve\\AppData\\Roaming\\nltk_data...\n",
      "[nltk_data]   Package stopwords is already up-to-date!\n",
      "[nltk_data] Downloading package wordnet to\n",
      "[nltk_data]     C:\\Users\\silve\\AppData\\Roaming\\nltk_data...\n",
      "[nltk_data]   Package wordnet is already up-to-date!\n",
      "[nltk_data] Downloading package brown to\n",
      "[nltk_data]     C:\\Users\\silve\\AppData\\Roaming\\nltk_data...\n",
      "[nltk_data]   Package brown is already up-to-date!\n",
      "[nltk_data] Downloading package punkt to\n",
      "[nltk_data]     C:\\Users\\silve\\AppData\\Roaming\\nltk_data...\n",
      "[nltk_data]   Package punkt is already up-to-date!\n"
     ]
    },
    {
     "data": {
      "text/plain": [
       "True"
      ]
     },
     "execution_count": 2,
     "metadata": {},
     "output_type": "execute_result"
    }
   ],
   "source": [
    "#Install the necessary datasets/models for specific functions to work\n",
    "nltk.download('stopwords')\n",
    "nltk.download('wordnet')\n",
    "nltk.download('brown')\n",
    "nltk.download('punkt')"
   ]
  },
  {
   "cell_type": "code",
   "execution_count": 3,
   "metadata": {
    "colab": {
     "base_uri": "https://localhost:8080/"
    },
    "id": "pwBD1l3Db_Gj",
    "outputId": "11e6be9f-2de1-4be9-feb1-ad62d66e8b08"
   },
   "outputs": [
    {
     "data": {
      "text/plain": [
       "['The', 'Fulton', 'County', 'Grand', 'Jury', 'said', ...]"
      ]
     },
     "execution_count": 3,
     "metadata": {},
     "output_type": "execute_result"
    }
   ],
   "source": [
    "# Test to confirm the download worked\n",
    "from nltk.corpus import brown\n",
    "brown.words()\n",
    "#dir(nltk)"
   ]
  },
  {
   "cell_type": "markdown",
   "metadata": {},
   "source": [
    "## Verify GPU Runtime"
   ]
  },
  {
   "cell_type": "code",
   "execution_count": 4,
   "metadata": {
    "colab": {
     "base_uri": "https://localhost:8080/"
    },
    "id": "jmOgf2M_cBQ8",
    "outputId": "33b40c67-d157-4e8c-b55c-deee21ff4834"
   },
   "outputs": [
    {
     "name": "stdout",
     "output_type": "stream",
     "text": [
      "Thu Mar 21 16:52:38 2024       \n",
      "+-----------------------------------------------------------------------------------------+\n",
      "| NVIDIA-SMI 551.52                 Driver Version: 551.52         CUDA Version: 12.4     |\n",
      "|-----------------------------------------+------------------------+----------------------+\n",
      "| GPU  Name                     TCC/WDDM  | Bus-Id          Disp.A | Volatile Uncorr. ECC |\n",
      "| Fan  Temp   Perf          Pwr:Usage/Cap |           Memory-Usage | GPU-Util  Compute M. |\n",
      "|                                         |                        |               MIG M. |\n",
      "|=========================================+========================+======================|\n",
      "|   0  NVIDIA GeForce RTX 3070 ...  WDDM  |   00000000:01:00.0  On |                  N/A |\n",
      "| N/A   55C    P8             14W /  115W |     404MiB /   8192MiB |     30%      Default |\n",
      "|                                         |                        |                  N/A |\n",
      "+-----------------------------------------+------------------------+----------------------+\n",
      "                                                                                         \n",
      "+-----------------------------------------------------------------------------------------+\n",
      "| Processes:                                                                              |\n",
      "|  GPU   GI   CI        PID   Type   Process name                              GPU Memory |\n",
      "|        ID   ID                                                               Usage      |\n",
      "|=========================================================================================|\n",
      "|    0   N/A  N/A      8080    C+G   C:\\Windows\\explorer.exe                     N/A      |\n",
      "|    0   N/A  N/A     11596    C+G   ...Brave-Browser\\Application\\brave.exe      N/A      |\n",
      "|    0   N/A  N/A     20728    C+G   ...x86__97hta09mmv6hy\\Build\\Lively.exe      N/A      |\n",
      "+-----------------------------------------------------------------------------------------+\n"
     ]
    }
   ],
   "source": [
    "gpu_info = !nvidia-smi\n",
    "gpu_info = '\\n'.join(gpu_info)\n",
    "if gpu_info.find('failed') >= 0:\n",
    "  print('Not connected to a GPU')\n",
    "else:\n",
    "  print(gpu_info)"
   ]
  },
  {
   "cell_type": "code",
   "execution_count": 5,
   "metadata": {
    "colab": {
     "base_uri": "https://localhost:8080/"
    },
    "id": "I2D9P8y0dAIQ",
    "outputId": "1e227ce5-0949-4770-a9f4-7bc9ed85cfcc"
   },
   "outputs": [
    {
     "name": "stdout",
     "output_type": "stream",
     "text": [
      "Your runtime has 14.9 gigabytes of available RAM\n",
      "\n",
      "Not using a high-RAM runtime\n"
     ]
    }
   ],
   "source": [
    "from psutil import virtual_memory\n",
    "ram_gb = virtual_memory().total / 1e9\n",
    "print('Your runtime has {:.1f} gigabytes of available RAM\\n'.format(ram_gb))\n",
    "\n",
    "if ram_gb < 20:\n",
    "  print('Not using a high-RAM runtime')\n",
    "else:\n",
    "  print('You are using a high-RAM runtime!')"
   ]
  },
  {
   "cell_type": "markdown",
   "metadata": {
    "id": "M8SE1wnZh5tK"
   },
   "source": [
    "## Loading Data"
   ]
  },
  {
   "cell_type": "code",
   "execution_count": 2,
   "metadata": {
    "id": "BxiIxwy9dhXN",
    "scrolled": true
   },
   "outputs": [],
   "source": [
    "ROOT_DIR = \"./\"\n",
    "DATA_DIR = \"%s/data\" % ROOT_DIR\n",
    "EVAL_DIR = \"%s/evaluation\" % ROOT_DIR\n",
    "MODEL_DIR = \"%s/models\" % ROOT_DIR\n",
    "\n",
    "#Create missing directories, if they don't exist\n",
    "if not os.path.exists(DATA_DIR):\n",
    "  # Create a new directory because it does not exist\n",
    "  os.makedirs(DATA_DIR)\n",
    "  print(\"The data directory is created!\")\n",
    "if not os.path.exists(EVAL_DIR):\n",
    "  # Create a new directory because it does not exist\n",
    "  os.makedirs(EVAL_DIR)\n",
    "  print(\"The evaluation directory is created!\")\n",
    "if not os.path.exists(MODEL_DIR):\n",
    "  # Create a new directory because it does not exist\n",
    "  os.makedirs(MODEL_DIR)\n",
    "  print(\"The model directory is created!\")"
   ]
  },
  {
   "cell_type": "code",
   "execution_count": 24,
   "metadata": {
    "colab": {
     "base_uri": "https://localhost:8080/"
    },
    "id": "UwC55lQvd5Bu",
    "outputId": "851b0650-32d4-442b-dd54-4f4d1f8c4bf8"
   },
   "outputs": [
    {
     "data": {
      "text/plain": [
       "('./data/news_category_trainingdata.json',\n",
       " <http.client.HTTPMessage at 0x23c43e9c910>)"
      ]
     },
     "execution_count": 24,
     "metadata": {},
     "output_type": "execute_result"
    }
   ],
   "source": [
    "import urllib.request\n",
    "url = 'https://docs.google.com/uc?export=download&id=1jnucfZWLPmxG4UzPtgd-dRe_Z9tPo60V'\n",
    "filename = './data/news_category_trainingdata.json'\n",
    "urllib.request.urlretrieve(url, filename)"
   ]
  },
  {
   "cell_type": "code",
   "execution_count": 25,
   "metadata": {
    "id": "kWehBACUd_a9"
   },
   "outputs": [],
   "source": [
    "# Read the data into a datframe\n",
    "df_news = pd.read_json(filename)"
   ]
  },
  {
   "cell_type": "code",
   "execution_count": 26,
   "metadata": {
    "id": "2lloTvHmeCsO"
   },
   "outputs": [],
   "source": [
    "# Merge two text column for the model\n",
    "df_news['combined_text'] = df_news['headline'] + ' ' + df_news['short_description']\n",
    "# Create a flag of welness related articles\n",
    "cat_list_wellness = ['HEALTHY LIVING', 'WELLNESS']\n",
    "df_news['wellness'] = np.where((df_news['category'].isin(cat_list_wellness)), 1, 0)"
   ]
  },
  {
   "cell_type": "code",
   "execution_count": 27,
   "metadata": {
    "colab": {
     "base_uri": "https://localhost:8080/",
     "height": 712
    },
    "id": "M-6CzRYzeGX_",
    "outputId": "14f6beb7-577a-486d-a4c0-81c5c38cf93c"
   },
   "outputs": [
    {
     "data": {
      "text/html": [
       "<div>\n",
       "<style scoped>\n",
       "    .dataframe tbody tr th:only-of-type {\n",
       "        vertical-align: middle;\n",
       "    }\n",
       "\n",
       "    .dataframe tbody tr th {\n",
       "        vertical-align: top;\n",
       "    }\n",
       "\n",
       "    .dataframe thead th {\n",
       "        text-align: right;\n",
       "    }\n",
       "</style>\n",
       "<table border=\"1\" class=\"dataframe\">\n",
       "  <thead>\n",
       "    <tr style=\"text-align: right;\">\n",
       "      <th></th>\n",
       "      <th>category</th>\n",
       "      <th>headline</th>\n",
       "      <th>authors</th>\n",
       "      <th>link</th>\n",
       "      <th>short_description</th>\n",
       "      <th>date</th>\n",
       "      <th>combined_text</th>\n",
       "      <th>wellness</th>\n",
       "    </tr>\n",
       "  </thead>\n",
       "  <tbody>\n",
       "    <tr>\n",
       "      <th>0</th>\n",
       "      <td>CRIME</td>\n",
       "      <td>There Were 2 Mass Shootings In Texas Last Week...</td>\n",
       "      <td>Melissa Jeltsen</td>\n",
       "      <td>https://www.huffingtonpost.com/entry/texas-ama...</td>\n",
       "      <td>She left her husband. He killed their children...</td>\n",
       "      <td>2018-05-26</td>\n",
       "      <td>There Were 2 Mass Shootings In Texas Last Week...</td>\n",
       "      <td>0</td>\n",
       "    </tr>\n",
       "    <tr>\n",
       "      <th>1</th>\n",
       "      <td>ENTERTAINMENT</td>\n",
       "      <td>Will Smith Joins Diplo And Nicky Jam For The 2...</td>\n",
       "      <td>Andy McDonald</td>\n",
       "      <td>https://www.huffingtonpost.com/entry/will-smit...</td>\n",
       "      <td>Of course it has a song.</td>\n",
       "      <td>2018-05-26</td>\n",
       "      <td>Will Smith Joins Diplo And Nicky Jam For The 2...</td>\n",
       "      <td>0</td>\n",
       "    </tr>\n",
       "    <tr>\n",
       "      <th>2</th>\n",
       "      <td>ENTERTAINMENT</td>\n",
       "      <td>Hugh Grant Marries For The First Time At Age 57</td>\n",
       "      <td>Ron Dicker</td>\n",
       "      <td>https://www.huffingtonpost.com/entry/hugh-gran...</td>\n",
       "      <td>The actor and his longtime girlfriend Anna Ebe...</td>\n",
       "      <td>2018-05-26</td>\n",
       "      <td>Hugh Grant Marries For The First Time At Age 5...</td>\n",
       "      <td>0</td>\n",
       "    </tr>\n",
       "    <tr>\n",
       "      <th>3</th>\n",
       "      <td>ENTERTAINMENT</td>\n",
       "      <td>Jim Carrey Blasts 'Castrato' Adam Schiff And D...</td>\n",
       "      <td>Ron Dicker</td>\n",
       "      <td>https://www.huffingtonpost.com/entry/jim-carre...</td>\n",
       "      <td>The actor gives Dems an ass-kicking for not fi...</td>\n",
       "      <td>2018-05-26</td>\n",
       "      <td>Jim Carrey Blasts 'Castrato' Adam Schiff And D...</td>\n",
       "      <td>0</td>\n",
       "    </tr>\n",
       "    <tr>\n",
       "      <th>4</th>\n",
       "      <td>ENTERTAINMENT</td>\n",
       "      <td>Julianna Margulies Uses Donald Trump Poop Bags...</td>\n",
       "      <td>Ron Dicker</td>\n",
       "      <td>https://www.huffingtonpost.com/entry/julianna-...</td>\n",
       "      <td>The \"Dietland\" actress said using the bags is ...</td>\n",
       "      <td>2018-05-26</td>\n",
       "      <td>Julianna Margulies Uses Donald Trump Poop Bags...</td>\n",
       "      <td>0</td>\n",
       "    </tr>\n",
       "  </tbody>\n",
       "</table>\n",
       "</div>"
      ],
      "text/plain": [
       "        category                                           headline  \\\n",
       "0          CRIME  There Were 2 Mass Shootings In Texas Last Week...   \n",
       "1  ENTERTAINMENT  Will Smith Joins Diplo And Nicky Jam For The 2...   \n",
       "2  ENTERTAINMENT    Hugh Grant Marries For The First Time At Age 57   \n",
       "3  ENTERTAINMENT  Jim Carrey Blasts 'Castrato' Adam Schiff And D...   \n",
       "4  ENTERTAINMENT  Julianna Margulies Uses Donald Trump Poop Bags...   \n",
       "\n",
       "           authors                                               link  \\\n",
       "0  Melissa Jeltsen  https://www.huffingtonpost.com/entry/texas-ama...   \n",
       "1    Andy McDonald  https://www.huffingtonpost.com/entry/will-smit...   \n",
       "2       Ron Dicker  https://www.huffingtonpost.com/entry/hugh-gran...   \n",
       "3       Ron Dicker  https://www.huffingtonpost.com/entry/jim-carre...   \n",
       "4       Ron Dicker  https://www.huffingtonpost.com/entry/julianna-...   \n",
       "\n",
       "                                   short_description       date  \\\n",
       "0  She left her husband. He killed their children... 2018-05-26   \n",
       "1                           Of course it has a song. 2018-05-26   \n",
       "2  The actor and his longtime girlfriend Anna Ebe... 2018-05-26   \n",
       "3  The actor gives Dems an ass-kicking for not fi... 2018-05-26   \n",
       "4  The \"Dietland\" actress said using the bags is ... 2018-05-26   \n",
       "\n",
       "                                       combined_text  wellness  \n",
       "0  There Were 2 Mass Shootings In Texas Last Week...         0  \n",
       "1  Will Smith Joins Diplo And Nicky Jam For The 2...         0  \n",
       "2  Hugh Grant Marries For The First Time At Age 5...         0  \n",
       "3  Jim Carrey Blasts 'Castrato' Adam Schiff And D...         0  \n",
       "4  Julianna Margulies Uses Donald Trump Poop Bags...         0  "
      ]
     },
     "execution_count": 27,
     "metadata": {},
     "output_type": "execute_result"
    }
   ],
   "source": [
    "# Preview the new dataframe\n",
    "df_news.head()"
   ]
  },
  {
   "cell_type": "markdown",
   "metadata": {
    "id": "xIvbkuk1iAhh"
   },
   "source": [
    "## EDA"
   ]
  },
  {
   "cell_type": "code",
   "execution_count": 28,
   "metadata": {
    "colab": {
     "base_uri": "https://localhost:8080/"
    },
    "id": "aRAhMd42eNch",
    "outputId": "3641d4cb-1ac9-4098-8b0a-03219f27143c"
   },
   "outputs": [
    {
     "name": "stdout",
     "output_type": "stream",
     "text": [
      "category: CRIME \t wellness: 0 \n",
      "\n",
      "headline: There Were 2 Mass Shootings In Texas Last Week, But Only 1 On TV \n",
      "\n",
      "short_description: She left her husband. He killed their children. Just another day in America. \n",
      "\n",
      "combined_text: There Were 2 Mass Shootings In Texas Last Week, But Only 1 On TV She left her husband. He killed their children. Just another day in America. \n",
      "\n"
     ]
    }
   ],
   "source": [
    "# show the content of one Article in the data source\n",
    "idx = 0\n",
    "print('category:', df_news['category'][idx], '\\t wellness:', df_news['wellness'][idx],'\\n')\n",
    "print('headline:', df_news['headline'][idx], '\\n')\n",
    "print('short_description:', df_news['short_description'][idx], '\\n')\n",
    "print('combined_text:', df_news['combined_text'][idx], '\\n')"
   ]
  },
  {
   "cell_type": "code",
   "execution_count": 29,
   "metadata": {
    "colab": {
     "base_uri": "https://localhost:8080/"
    },
    "id": "IAjj55f7eRKg",
    "outputId": "e112b0ed-99bf-4817-b8ac-27abd6c8f72d"
   },
   "outputs": [
    {
     "name": "stdout",
     "output_type": "stream",
     "text": [
      "Total Categories: 41\n",
      "Wellness Categories: 2 \n",
      "\tList: ['HEALTHY LIVING', 'WELLNESS']\n",
      "Non-Wellness Categories: 39 \n",
      "\tList: ['ENTERTAINMENT', 'BLACK VOICES', 'ARTS', 'QUEER VOICES', 'BUSINESS', 'WEDDINGS', 'FIFTY', 'THE WORLDPOST', 'WORLD NEWS', 'TECH', 'WORLDPOST', 'TASTE', 'WOMEN', 'CRIME', 'PARENTS', 'IMPACT', 'POLITICS', 'STYLE', 'HOME & LIVING', 'ARTS & CULTURE', 'GREEN', 'FOOD & DRINK', 'SCIENCE', 'MEDIA', 'WEIRD NEWS', 'STYLE & BEAUTY', 'GOOD NEWS', 'RELIGION', 'COLLEGE', 'SPORTS', 'TRAVEL', 'PARENTING', 'COMEDY', 'MONEY', 'LATINO VOICES', 'CULTURE & ARTS', 'DIVORCE', 'ENVIRONMENT', 'EDUCATION']\n"
     ]
    }
   ],
   "source": [
    "# Create a summary of the categories\n",
    "df_cat_count = pd.DataFrame(df_news['category'].value_counts()).reset_index()\n",
    "df_cat_count.reset_index()\n",
    "df_cat_count.columns = ['category', 'count']\n",
    "# Derive Stats vand Lists\n",
    "cat_list = list(df_cat_count['category'].unique())\n",
    "cat_list_wellness = ['HEALTHY LIVING', 'WELLNESS']\n",
    "cat_list_not_wellness = list(set(cat_list) - set(cat_list_wellness))\n",
    "total_categories = len(cat_list)\n",
    "total_wellness_cats = len(cat_list_wellness)\n",
    "total_not_wellness_cats = len(cat_list_not_wellness)\n",
    "# Print a Summary\n",
    "print('Total Categories:', total_categories)\n",
    "print('Wellness Categories:', total_wellness_cats, '\\n\\tList:', cat_list_wellness)\n",
    "print('Non-Wellness Categories:', total_not_wellness_cats, '\\n\\tList:', cat_list_not_wellness)"
   ]
  },
  {
   "cell_type": "code",
   "execution_count": 30,
   "metadata": {
    "colab": {
     "base_uri": "https://localhost:8080/",
     "height": 465
    },
    "id": "6xmgKMMVeW_l",
    "outputId": "2460b3e6-45d3-432d-9f10-e1bc2e987430"
   },
   "outputs": [
    {
     "data": {
      "image/png": "[encoded data removed]",
      "text/plain": [
       "<Figure size 600x400 with 1 Axes>"
      ]
     },
     "metadata": {},
     "output_type": "display_data"
    }
   ],
   "source": [
    "# Create a summary bar chart of categories\n",
    "f = plt.figure(figsize=(6,4))\n",
    "cols = ['orange' if (y in ['WELLNESS', 'HEALTHY LIVING']) else 'grey' for y in df_cat_count['category']]\n",
    "sns.barplot(x = 'count',\n",
    "            y = 'category',\n",
    "            data = df_cat_count.head(20),\n",
    "            palette=cols\n",
    "            ).set(title='Top 20 Categories',)\n",
    "plt.show()"
   ]
  },
  {
   "cell_type": "code",
   "execution_count": 31,
   "metadata": {
    "colab": {
     "base_uri": "https://localhost:8080/"
    },
    "id": "ohdQQrWnebxy",
    "outputId": "eed9fc01-04f3-4296-b9b3-46cf692c9e4c"
   },
   "outputs": [
    {
     "data": {
      "text/plain": [
       "wellness\n",
       "0    176332\n",
       "1     24521\n",
       "Name: count, dtype: int64"
      ]
     },
     "execution_count": 31,
     "metadata": {},
     "output_type": "execute_result"
    }
   ],
   "source": [
    "# Preview the Split of Data\n",
    "df_news['wellness'].value_counts()"
   ]
  },
  {
   "cell_type": "code",
   "execution_count": 32,
   "metadata": {
    "colab": {
     "base_uri": "https://localhost:8080/",
     "height": 179
    },
    "id": "S-0hoo3JefvC",
    "outputId": "1a044bad-9a95-462e-a4ec-5a2e39e29242"
   },
   "outputs": [
    {
     "data": {
      "image/png": "[encoded data removed]",
      "text/plain": [
       "<Figure size 600x100 with 1 Axes>"
      ]
     },
     "metadata": {},
     "output_type": "display_data"
    }
   ],
   "source": [
    "# Create a summary of the categories\n",
    "df_wellness_count = pd.DataFrame(df_news['wellness'].value_counts()).reset_index()\n",
    "df_wellness_count.columns = ['category', 'count']\n",
    "dict_target_names = {0: 'NOT WELLNESS', 1: 'WELLNESS'}\n",
    "df_wellness_count['category'].replace(dict_target_names, inplace=True)\n",
    "# Create a summary bar chart of categories\n",
    "f = plt.figure(figsize=(6,1))\n",
    "sns.barplot(x = 'count',\n",
    "            y = 'category',\n",
    "            data = df_wellness_count,\n",
    "            color = 'steelblue'\n",
    "            ).set(title='Data Category Distribution',)\n",
    "plt.show()"
   ]
  },
  {
   "cell_type": "markdown",
   "metadata": {},
   "source": [
    "The categories are unevenly distributed across the categories. To ensure a proper mix of articles from each category, a stratified sample should be conducted to maintain the distribution, but scale down the volume of records. An equal number of wellness and non-wellness articles should be included in the sampled data."
   ]
  },
  {
   "cell_type": "code",
   "execution_count": 33,
   "metadata": {
    "colab": {
     "base_uri": "https://localhost:8080/",
     "height": 343
    },
    "id": "1Op9JMbAejZ7",
    "outputId": "3db48459-1721-4c53-e72f-435cdcff1803"
   },
   "outputs": [
    {
     "data": {
      "text/plain": [
       "Text(0, 0.5, 'Record Count')"
      ]
     },
     "execution_count": 33,
     "metadata": {},
     "output_type": "execute_result"
    },
    {
     "data": {
      "image/png": "[encoded data removed]",
      "text/plain": [
       "<Figure size 600x300 with 1 Axes>"
      ]
     },
     "metadata": {},
     "output_type": "display_data"
    }
   ],
   "source": [
    "# add a length column to the dataframe\n",
    "df_news['text_length'] = df_news['combined_text'].apply(len)\n",
    "#create a figure\n",
    "fig, ax = plt.subplots(figsize = (6,3))\n",
    "# create a histogram of the length of text\n",
    "#chart = plt.hist(x = df_s['Text Length'])\n",
    "chart = sns.histplot(x = df_news['text_length'], kde=True)\n",
    "# Customising legend\n",
    "ax.set_title('Histogram of Text Length', fontsize=10)\n",
    "ax.set_xlabel('Text Length', fontsize=8)\n",
    "ax.set_ylabel('Record Count', fontsize=8)"
   ]
  },
  {
   "cell_type": "code",
   "execution_count": 34,
   "metadata": {
    "colab": {
     "base_uri": "https://localhost:8080/",
     "height": 347
    },
    "id": "-r_QBXddenA8",
    "outputId": "38716052-a8d7-4dd2-a385-1a29e76b2b79"
   },
   "outputs": [
    {
     "data": {
      "text/plain": [
       "Text(0.5, 1.0, 'Boxplot of Text Length')"
      ]
     },
     "execution_count": 34,
     "metadata": {},
     "output_type": "execute_result"
    },
    {
     "data": {
      "image/png": "[encoded data removed]",
      "text/plain": [
       "<Figure size 600x300 with 1 Axes>"
      ]
     },
     "metadata": {},
     "output_type": "display_data"
    }
   ],
   "source": [
    "#create a figure\n",
    "fig, ax = plt.subplots(figsize = (6,3))\n",
    "# create a boxplot of the length of text\n",
    "chart = sns.boxplot(x = df_news['text_length'])\n",
    "ax.set_title('Boxplot of Text Length', fontsize=10)"
   ]
  },
  {
   "cell_type": "code",
   "execution_count": 35,
   "metadata": {
    "colab": {
     "base_uri": "https://localhost:8080/",
     "height": 347
    },
    "id": "LfX-uYnAeqN7",
    "outputId": "d3026279-d614-4ad7-cf46-37d43f468fbb"
   },
   "outputs": [
    {
     "data": {
      "text/plain": [
       "Text(0.5, 1.0, 'Boxplot of Word Count')"
      ]
     },
     "execution_count": 35,
     "metadata": {},
     "output_type": "execute_result"
    },
    {
     "data": {
      "image/png": "[encoded data removed]",
      "text/plain": [
       "<Figure size 600x300 with 1 Axes>"
      ]
     },
     "metadata": {},
     "output_type": "display_data"
    }
   ],
   "source": [
    "# define a function to add the word count to a dataframe\n",
    "def add_word_count(df):\n",
    "    df['text_token'] = df.apply(lambda row: nltk.word_tokenize(row['combined_text']), axis=1)\n",
    "    df['word_count'] = df['text_token'].apply(len)\n",
    "    df.drop(columns = ['text_token'], inplace=True)\n",
    "    return df\n",
    "# add a length column to the dataframe for wordcount\n",
    "df_news = add_word_count(df = df_news)\n",
    "#create a figure\n",
    "fig, ax = plt.subplots(figsize = (6,3))\n",
    "# create a boxplot of the length of text\n",
    "chart = sns.boxplot(x = df_news['word_count'])\n",
    "ax.set_title('Boxplot of Word Count', fontsize=10)"
   ]
  },
  {
   "cell_type": "markdown",
   "metadata": {
    "id": "c8tN3cWTiHCx"
   },
   "source": [
    "## Data Cleaning"
   ]
  },
  {
   "cell_type": "code",
   "execution_count": 36,
   "metadata": {
    "id": "knBKU8MBe6ZF"
   },
   "outputs": [],
   "source": [
    "# Identify Columns with Nulls\n",
    "def identify_columns_with_null(df):\n",
    "  a = [np.nan, None, [], {}, 'NaN', 'Null','NULL','None','NA','?','-', '.','', ' ', '   ']\n",
    "  nc = {}\n",
    "\n",
    "  for c in df.columns:\n",
    "      string_null = np.array([x in a[2:] for x in df[c]]).sum()\n",
    "      std_null = df[c].isnull().sum()\n",
    "      ttl_null = std_null + string_null\n",
    "      if ttl_null > 0:\n",
    "          nc[c] = ttl_null\n",
    "\n",
    "  print('number of fields with nulls:', len(nc), '\\n')\n",
    "  print(pd.Series(nc))\n",
    "\n",
    "  return nc"
   ]
  },
  {
   "cell_type": "code",
   "execution_count": 37,
   "metadata": {
    "colab": {
     "base_uri": "https://localhost:8080/"
    },
    "id": "dIZgIhWte6vH",
    "outputId": "d21c6fbd-95bb-4d2b-dc5a-ecef34a341dc"
   },
   "outputs": [
    {
     "name": "stdout",
     "output_type": "stream",
     "text": [
      "number of fields with nulls: 4 \n",
      "\n",
      "headline                 6\n",
      "authors              36620\n",
      "short_description    19712\n",
      "combined_text            5\n",
      "dtype: int64\n"
     ]
    }
   ],
   "source": [
    "# Detect Columns with null values\n",
    "null_columns = identify_columns_with_null(df = df_news)"
   ]
  },
  {
   "cell_type": "code",
   "execution_count": 38,
   "metadata": {
    "colab": {
     "base_uri": "https://localhost:8080/"
    },
    "id": "9DWrR_R5e61s",
    "outputId": "f0e27636-467d-43ab-aac0-8d5efd0b038f"
   },
   "outputs": [
    {
     "name": "stdout",
     "output_type": "stream",
     "text": [
      "number of fields with nulls: 2 \n",
      "\n",
      "authors              36620\n",
      "short_description    19707\n",
      "dtype: int64\n"
     ]
    }
   ],
   "source": [
    "df_news['combined_text'].replace('', np.nan, inplace=True)\n",
    "df_news['headline'].replace('', np.nan, inplace=True)\n",
    "df_news.dropna(subset=['combined_text'], inplace=True)\n",
    "df_news.dropna(subset=['headline'], inplace=True)\n",
    "null_columns = identify_columns_with_null(df = df_news)"
   ]
  },
  {
   "cell_type": "code",
   "execution_count": 39,
   "metadata": {
    "id": "4oyJz_aPfDuO"
   },
   "outputs": [],
   "source": [
    "# Create a funtion to clean a dataframe with text\n",
    "def clean_text(df, text_col):\n",
    "    # removes punctuation\n",
    "    df['no_punct'] = df[text_col].apply(\n",
    "        lambda row: re.sub(r'[^\\w\\s]+', '', row))\n",
    "    # removes numbers\n",
    "    df['no_punct_num'] = df['no_punct'].apply(\n",
    "        lambda row: re.sub(r'[0-9]+', '', row))\n",
    "    # removes stop words, e.g. a, an, and, but, in, on, the...\n",
    "    stop_words = stopwords.words('english')\n",
    "    df['no_stopwords'] = df['no_punct_num'].apply(\n",
    "        lambda x: ' '.join([word for word in x.split() if word not in (stop_words)]))\n",
    "    # removes extra spaces\n",
    "    df['clean_text'] = df['no_stopwords'].apply(\n",
    "        lambda x: re.sub(' +', ' ', x))\n",
    "    # tidy the table\n",
    "    df.drop(columns = ['no_punct','no_punct_num','no_stopwords'], inplace=True)\n",
    "    return"
   ]
  },
  {
   "cell_type": "code",
   "execution_count": 40,
   "metadata": {
    "id": "zbCcW7fFfHFt"
   },
   "outputs": [],
   "source": [
    "# Tokenize text functions\n",
    "wordnet_lemmatizer = WordNetLemmatizer()\n",
    "# Function to bulkify lemmatize large block of text one word at a time\n",
    "def lemmatizer(text):\n",
    "    lem = [wordnet_lemmatizer.lemmatize(word.lower()) for word in text]\n",
    "    return lem\n",
    "# Function to tokenize the entire article then apply the lemmatize to each article\n",
    "def tokenize_lemmatize(df, text_col):\n",
    "    df['tokenized_text'] = df.apply(lambda row: nltk.word_tokenize(row[text_col]), axis=1)\n",
    "    df['lemmatized_text'] = df['tokenized_text'].apply(lambda string: lemmatizer(string))\n",
    "    return"
   ]
  },
  {
   "cell_type": "code",
   "execution_count": 41,
   "metadata": {
    "id": "PHj1mY4zfKQO"
   },
   "outputs": [],
   "source": [
    "# will not use this function as it does not work with LLMs\n",
    "def deep_clean(df, text_col, preview_idx = 0):\n",
    "  idx = preview_idx\n",
    "  # Change the text to lowercase\n",
    "  df[text_col] = df[text_col].str.lower()\n",
    "  # Using 'clean_text' function to clean 'Text' column\n",
    "  clean_text(df = df, text_col = text_col)\n",
    "  # Preview the changes for the before and after text\n",
    "  print(df[text_col][idx])\n",
    "  print('\\n## change to ##\\n')\n",
    "  print(df['clean_text'][idx])\n",
    "  print('\\n--------------------\\n')\n",
    "  # Tidy the table\n",
    "  df[text_col] = df['clean_text']\n",
    "  df.drop(columns = ['clean_text'], inplace=True)\n",
    "  # Using text cleaning function to clean the text column\n",
    "  tokenize_lemmatize(df = df, text_col = text_col)\n",
    "  # Print a before an after of the tokenization and lematization\n",
    "  print(df[text_col][idx])\n",
    "  print('\\n## change to ##\\n')\n",
    "  print(df['lemmatized_text'][idx])\n",
    "  print('\\n--------------------\\n')\n",
    "  # Tidy the table\n",
    "  df[text_col] = df.apply(lambda row: ' '.join(row['lemmatized_text']), axis=1)\n",
    "  df.drop(columns = ['tokenized_text', 'lemmatized_text'], inplace=True)\n",
    "  # Print a final preview of the text\n",
    "  print('## final text ##\\n')\n",
    "  print(df[text_col][idx])\n",
    "\n",
    "#deep_clean(df = df_news, text_col = 'combined_text', preview_idx = 0)"
   ]
  },
  {
   "cell_type": "markdown",
   "metadata": {},
   "source": [
    "## Sample and Balance the Data"
   ]
  },
  {
   "cell_type": "code",
   "execution_count": 42,
   "metadata": {
    "colab": {
     "base_uri": "https://localhost:8080/"
    },
    "id": "H7NVas_kfL__",
    "outputId": "d37aa157-655f-454b-df59-8205e07414e7"
   },
   "outputs": [
    {
     "name": "stdout",
     "output_type": "stream",
     "text": [
      "wellness\n",
      "1    20000\n",
      "0    20000\n",
      "Name: count, dtype: int64 \n",
      "\n",
      "Sample Categories: 41 \n",
      "\tList: ['WELLNESS', 'HEALTHY LIVING', 'ARTS', 'ARTS & CULTURE', 'BLACK VOICES', 'BUSINESS', 'COLLEGE', 'COMEDY', 'CRIME', 'CULTURE & ARTS', 'DIVORCE', 'EDUCATION', 'ENTERTAINMENT', 'ENVIRONMENT', 'FIFTY', 'FOOD & DRINK', 'GOOD NEWS', 'GREEN', 'HOME & LIVING', 'IMPACT', 'LATINO VOICES', 'MEDIA', 'MONEY', 'PARENTING', 'PARENTS', 'POLITICS', 'QUEER VOICES', 'RELIGION', 'SCIENCE', 'SPORTS', 'STYLE', 'STYLE & BEAUTY', 'TASTE', 'TECH', 'THE WORLDPOST', 'TRAVEL', 'WEDDINGS', 'WEIRD NEWS', 'WOMEN', 'WORLD NEWS', 'WORLDPOST']\n"
     ]
    }
   ],
   "source": [
    "# Set a sample amount\n",
    "sample_amount = 20000\n",
    "# Sample healthy living\n",
    "healthy = df_news[df_news['wellness'] == 1].sample(n = sample_amount)\n",
    "# Sample non-healthy living\n",
    "not_healthy = df_news[df_news['wellness'] == 0]\n",
    "not_healthy_rows = len(not_healthy)\n",
    "not_healthy_sample_frac = sample_amount / not_healthy_rows\n",
    "not_healthy = not_healthy.groupby('category').apply(\n",
    "    lambda x: x.sample(frac = not_healthy_sample_frac))\n",
    "not_healthy = not_healthy.droplevel(0)\n",
    "# Create a Sampled Dataset\n",
    "df_news_sample = pd.concat([healthy, not_healthy])\n",
    "# Preview the Split of Data\n",
    "print(df_news_sample['wellness'].value_counts(), '\\n')\n",
    "# Confirm all categories are represented\n",
    "sample_cat_list = list(df_news_sample['category'].unique())\n",
    "total_sample_cats = len(sample_cat_list)\n",
    "print('Sample Categories:', total_sample_cats, '\\n\\tList:', sample_cat_list)"
   ]
  },
  {
   "cell_type": "code",
   "execution_count": 43,
   "metadata": {
    "id": "a8WorO5DfPIG"
   },
   "outputs": [],
   "source": [
    "# Create a summary of the categories\n",
    "df_sample_cat_count = pd.DataFrame(df_news_sample['category'].value_counts()).reset_index()\n",
    "df_sample_cat_count.reset_index()\n",
    "df_sample_cat_count.columns = ['category', 'count']"
   ]
  },
  {
   "cell_type": "code",
   "execution_count": 44,
   "metadata": {
    "colab": {
     "base_uri": "https://localhost:8080/",
     "height": 465
    },
    "id": "SBFXpxSsfRqh",
    "outputId": "07ff4f3d-1f73-4c92-85eb-5e9c8caa639f"
   },
   "outputs": [
    {
     "data": {
      "image/png": "[encoded data removed]",
      "text/plain": [
       "<Figure size 600x400 with 1 Axes>"
      ]
     },
     "metadata": {},
     "output_type": "display_data"
    }
   ],
   "source": [
    "# Create a summary bar chart of categories\n",
    "cols = ['orange' if (y in ['WELLNESS', 'HEALTHY LIVING']) else 'grey' for y in df_sample_cat_count['category']]\n",
    "f = plt.figure(figsize=(6,4))\n",
    "sns.barplot(x = 'count',\n",
    "            y = 'category',\n",
    "            data = df_sample_cat_count.head(20),\n",
    "            palette=cols\n",
    "            ).set(title='Top 20 Categories')\n",
    "plt.show()"
   ]
  },
  {
   "cell_type": "code",
   "execution_count": 45,
   "metadata": {
    "colab": {
     "base_uri": "https://localhost:8080/"
    },
    "id": "9iuAloesfRxS",
    "outputId": "76e89e89-5ec8-4b01-a8fa-39fe2ab0ebbd"
   },
   "outputs": [
    {
     "data": {
      "text/plain": [
       "wellness\n",
       "1    20000\n",
       "0    20000\n",
       "Name: count, dtype: int64"
      ]
     },
     "execution_count": 45,
     "metadata": {},
     "output_type": "execute_result"
    }
   ],
   "source": [
    "# Preview the Split of Data\n",
    "df_news_sample['wellness'].value_counts()"
   ]
  },
  {
   "cell_type": "code",
   "execution_count": 46,
   "metadata": {
    "colab": {
     "base_uri": "https://localhost:8080/",
     "height": 179
    },
    "id": "oLFLAOokfWzf",
    "outputId": "a8c75b1b-724e-44d1-98d7-c3c3a225ac71"
   },
   "outputs": [
    {
     "data": {
      "image/png": "[encoded data removed]",
      "text/plain": [
       "<Figure size 600x100 with 1 Axes>"
      ]
     },
     "metadata": {},
     "output_type": "display_data"
    }
   ],
   "source": [
    "# Create a summary of the categories\n",
    "df_samp_wellness_count = pd.DataFrame(df_news_sample['wellness'].value_counts()).reset_index()\n",
    "df_samp_wellness_count.columns = ['category', 'count']\n",
    "dict_target_names = {0: 'NOT WELLNESS', 1: 'WELLNESS'}\n",
    "df_samp_wellness_count['category'].replace(dict_target_names, inplace=True)\n",
    "# Create a summary bar chart of categories\n",
    "f = plt.figure(figsize=(6,1))\n",
    "sns.barplot(x = 'count',\n",
    "            y = 'category',\n",
    "            data = df_samp_wellness_count,\n",
    "            color = 'steelblue'\n",
    "            ).set(title='Data Category Distribution',)\n",
    "plt.show()"
   ]
  },
  {
   "cell_type": "code",
   "execution_count": 47,
   "metadata": {
    "colab": {
     "base_uri": "https://localhost:8080/",
     "height": 319
    },
    "id": "eADP0QIFfZ_A",
    "outputId": "94778ed2-22f4-41c2-a083-673ee28a36f1"
   },
   "outputs": [
    {
     "data": {
      "text/html": [
       "<div>\n",
       "<style scoped>\n",
       "    .dataframe tbody tr th:only-of-type {\n",
       "        vertical-align: middle;\n",
       "    }\n",
       "\n",
       "    .dataframe tbody tr th {\n",
       "        vertical-align: top;\n",
       "    }\n",
       "\n",
       "    .dataframe thead th {\n",
       "        text-align: right;\n",
       "    }\n",
       "</style>\n",
       "<table border=\"1\" class=\"dataframe\">\n",
       "  <thead>\n",
       "    <tr style=\"text-align: right;\">\n",
       "      <th></th>\n",
       "      <th>category</th>\n",
       "      <th>headline</th>\n",
       "      <th>authors</th>\n",
       "      <th>link</th>\n",
       "      <th>short_description</th>\n",
       "      <th>date</th>\n",
       "      <th>combined_text</th>\n",
       "      <th>wellness</th>\n",
       "      <th>text_length</th>\n",
       "      <th>word_count</th>\n",
       "    </tr>\n",
       "  </thead>\n",
       "  <tbody>\n",
       "    <tr>\n",
       "      <th>151442</th>\n",
       "      <td>WELLNESS</td>\n",
       "      <td>Insomnia Impairs Emotional Regulation</td>\n",
       "      <td>Dr. Michael J. Breus, Contributor\\nClinical Ps...</td>\n",
       "      <td>https://www.huffingtonpost.com/entry/insomnia-...</td>\n",
       "      <td>The relationship between disordered sleep and ...</td>\n",
       "      <td>2013-07-09</td>\n",
       "      <td>Insomnia Impairs Emotional Regulation The rela...</td>\n",
       "      <td>1</td>\n",
       "      <td>175</td>\n",
       "      <td>28</td>\n",
       "    </tr>\n",
       "    <tr>\n",
       "      <th>141707</th>\n",
       "      <td>WELLNESS</td>\n",
       "      <td>Prevent Sports Injuries With Exercise, Review ...</td>\n",
       "      <td></td>\n",
       "      <td>https://www.huffingtonpost.com/entry/prevent-s...</td>\n",
       "      <td>The researchers reviewed 25 previously publish...</td>\n",
       "      <td>2013-10-21</td>\n",
       "      <td>Prevent Sports Injuries With Exercise, Review ...</td>\n",
       "      <td>1</td>\n",
       "      <td>174</td>\n",
       "      <td>27</td>\n",
       "    </tr>\n",
       "    <tr>\n",
       "      <th>166737</th>\n",
       "      <td>WELLNESS</td>\n",
       "      <td>Gluten-Free And Extreme Dieting: Is There A Tie?</td>\n",
       "      <td>Katie Bindley</td>\n",
       "      <td>https://www.huffingtonpost.com/entry/gluten-fr...</td>\n",
       "      <td>At the same time, gluten-free diets are on the...</td>\n",
       "      <td>2013-01-30</td>\n",
       "      <td>Gluten-Free And Extreme Dieting: Is There A Ti...</td>\n",
       "      <td>1</td>\n",
       "      <td>173</td>\n",
       "      <td>34</td>\n",
       "    </tr>\n",
       "  </tbody>\n",
       "</table>\n",
       "</div>"
      ],
      "text/plain": [
       "        category                                           headline  \\\n",
       "151442  WELLNESS              Insomnia Impairs Emotional Regulation   \n",
       "141707  WELLNESS  Prevent Sports Injuries With Exercise, Review ...   \n",
       "166737  WELLNESS   Gluten-Free And Extreme Dieting: Is There A Tie?   \n",
       "\n",
       "                                                  authors  \\\n",
       "151442  Dr. Michael J. Breus, Contributor\\nClinical Ps...   \n",
       "141707                                                      \n",
       "166737                                      Katie Bindley   \n",
       "\n",
       "                                                     link  \\\n",
       "151442  https://www.huffingtonpost.com/entry/insomnia-...   \n",
       "141707  https://www.huffingtonpost.com/entry/prevent-s...   \n",
       "166737  https://www.huffingtonpost.com/entry/gluten-fr...   \n",
       "\n",
       "                                        short_description       date  \\\n",
       "151442  The relationship between disordered sleep and ... 2013-07-09   \n",
       "141707  The researchers reviewed 25 previously publish... 2013-10-21   \n",
       "166737  At the same time, gluten-free diets are on the... 2013-01-30   \n",
       "\n",
       "                                            combined_text  wellness  \\\n",
       "151442  Insomnia Impairs Emotional Regulation The rela...         1   \n",
       "141707  Prevent Sports Injuries With Exercise, Review ...         1   \n",
       "166737  Gluten-Free And Extreme Dieting: Is There A Ti...         1   \n",
       "\n",
       "        text_length  word_count  \n",
       "151442          175          28  \n",
       "141707          174          27  \n",
       "166737          173          34  "
      ]
     },
     "execution_count": 47,
     "metadata": {},
     "output_type": "execute_result"
    }
   ],
   "source": [
    "df_news_sample.head(3)"
   ]
  },
  {
   "cell_type": "markdown",
   "metadata": {
    "id": "-H2LecuKiPiK"
   },
   "source": [
    "## Building our Models\n",
    "\n"
   ]
  },
  {
   "cell_type": "code",
   "execution_count": 48,
   "metadata": {
    "id": "GDCwwOqefcr5"
   },
   "outputs": [],
   "source": [
    "target_names = ['NOT WELLNESS','WELLNESS']"
   ]
  },
  {
   "cell_type": "code",
   "execution_count": 49,
   "metadata": {},
   "outputs": [],
   "source": [
    "#I've chosen distilbert-base-uncased because it's a good compromise between size and performance.\n",
    "MODEL_NAME = 'distilbert-base-uncased'\n",
    "tokenizer = AutoTokenizer.from_pretrained(MODEL_NAME)\n",
    "model = TFAutoModelForSequenceClassification.from_pretrained(MODEL_NAME, num_labels=2)"
   ]
  },
  {
   "cell_type": "code",
   "execution_count": 50,
   "metadata": {},
   "outputs": [
    {
     "name": "stdout",
     "output_type": "stream",
     "text": [
      "['not_wellness', 'wellness']\n",
      "        not_wellness  wellness\n",
      "29543            1.0       0.0\n",
      "180684           1.0       0.0\n",
      "21045            1.0       0.0\n",
      "197330           0.0       1.0\n",
      "146956           1.0       0.0\n",
      "['not_wellness', 'wellness']\n",
      "        not_wellness  wellness\n",
      "112602           1.0       0.0\n",
      "135116           0.0       1.0\n",
      "133095           0.0       1.0\n",
      "177688           1.0       0.0\n",
      "115512           0.0       1.0\n",
      "preprocessing train...\n",
      "language: en\n",
      "train sequence lengths:\n",
      "\tmean : 32\n",
      "\t95percentile : 58\n",
      "\t99percentile : 68\n"
     ]
    },
    {
     "data": {
      "text/html": [
       "\n",
       "<style>\n",
       "    /* Turns off some styling */\n",
       "    progress {\n",
       "        /* gets rid of default border in Firefox and Opera. */\n",
       "        border: none;\n",
       "        /* Needs to be in here for Safari polyfill so background images work as expected. */\n",
       "        background-size: auto;\n",
       "    }\n",
       "    progress:not([value]), progress:not([value])::-webkit-progress-bar {\n",
       "        background: repeating-linear-gradient(45deg, #7e7e7e, #7e7e7e 10px, #5c5c5c 10px, #5c5c5c 20px);\n",
       "    }\n",
       "    .progress-bar-interrupted, .progress-bar-interrupted::-webkit-progress-bar {\n",
       "        background: #F44336;\n",
       "    }\n",
       "</style>\n"
      ],
      "text/plain": [
       "<IPython.core.display.HTML object>"
      ]
     },
     "metadata": {},
     "output_type": "display_data"
    },
    {
     "data": {
      "text/html": [],
      "text/plain": [
       "<IPython.core.display.HTML object>"
      ]
     },
     "metadata": {},
     "output_type": "display_data"
    },
    {
     "name": "stdout",
     "output_type": "stream",
     "text": [
      "Is Multi-Label? False\n",
      "preprocessing test...\n",
      "language: en\n",
      "test sequence lengths:\n",
      "\tmean : 32\n",
      "\t95percentile : 58\n",
      "\t99percentile : 66\n"
     ]
    },
    {
     "data": {
      "text/html": [
       "\n",
       "<style>\n",
       "    /* Turns off some styling */\n",
       "    progress {\n",
       "        /* gets rid of default border in Firefox and Opera. */\n",
       "        border: none;\n",
       "        /* Needs to be in here for Safari polyfill so background images work as expected. */\n",
       "        background-size: auto;\n",
       "    }\n",
       "    progress:not([value]), progress:not([value])::-webkit-progress-bar {\n",
       "        background: repeating-linear-gradient(45deg, #7e7e7e, #7e7e7e 10px, #5c5c5c 10px, #5c5c5c 20px);\n",
       "    }\n",
       "    .progress-bar-interrupted, .progress-bar-interrupted::-webkit-progress-bar {\n",
       "        background: #F44336;\n",
       "    }\n",
       "</style>\n"
      ],
      "text/plain": [
       "<IPython.core.display.HTML object>"
      ]
     },
     "metadata": {},
     "output_type": "display_data"
    },
    {
     "data": {
      "text/html": [],
      "text/plain": [
       "<IPython.core.display.HTML object>"
      ]
     },
     "metadata": {},
     "output_type": "display_data"
    }
   ],
   "source": [
    "# use the distilbert-base-uncased transformer model\n",
    "# See all the models here: https://huggingface.co/transformers/pretrained_models.html\n",
    "train, val, preprocess = texts_from_df(df_news_sample, 'combined_text',\n",
    "                                       label_columns = ['wellness'],\n",
    "                                       val_df = None,\n",
    "                                       max_features = 20000,\n",
    "                                       maxlen = 512,\n",
    "                                       val_pct = 0.1,\n",
    "                                       ngram_range = 1,\n",
    "                                       preprocess_mode = 'distilbert')"
   ]
  },
  {
   "cell_type": "code",
   "execution_count": 39,
   "metadata": {},
   "outputs": [
    {
     "name": "stdout",
     "output_type": "stream",
     "text": [
      "Is Multi-Label? False\n",
      "maxlen is 512\n",
      "done.\n"
     ]
    }
   ],
   "source": [
    "model = ktrain.text.text_classifier('distilbert', train_data=train, preproc=preprocess)\n",
    "learner = ktrain.get_learner(model=model,\n",
    "                             train_data=train,\n",
    "                             val_data=val,\n",
    "                             batch_size=8)"
   ]
  },
  {
   "cell_type": "code",
   "execution_count": 42,
   "metadata": {},
   "outputs": [
    {
     "name": "stdout",
     "output_type": "stream",
     "text": [
      "\n",
      "\n",
      "begin training using onecycle policy with max lr of 3e-05...\n",
      "Epoch 1/12\n",
      "4500/4500 [==============================] - 1319s 289ms/step - loss: 0.2756 - accuracy: 0.8897 - val_loss: 0.2093 - val_accuracy: 0.9193\n",
      "Epoch 2/12\n",
      "4500/4500 [==============================] - 1171s 259ms/step - loss: 0.1866 - accuracy: 0.9305 - val_loss: 0.1980 - val_accuracy: 0.9260\n",
      "Epoch 3/12\n",
      "4500/4500 [==============================] - 1161s 257ms/step - loss: 0.1289 - accuracy: 0.9532 - val_loss: 0.2111 - val_accuracy: 0.9218\n",
      "Epoch 4/12\n",
      "4500/4500 [==============================] - 1170s 259ms/step - loss: 0.0823 - accuracy: 0.9711 - val_loss: 0.2838 - val_accuracy: 0.9147\n",
      "Epoch 5/12\n",
      "4500/4500 [==============================] - 1168s 258ms/step - loss: 0.0594 - accuracy: 0.9795 - val_loss: 0.2696 - val_accuracy: 0.9222\n",
      "Epoch 6/12\n",
      "4500/4500 [==============================] - 1165s 258ms/step - loss: 0.0474 - accuracy: 0.9847 - val_loss: 0.3352 - val_accuracy: 0.9168\n",
      "Epoch 7/12\n",
      "4500/4500 [==============================] - 1155s 255ms/step - loss: 0.0363 - accuracy: 0.9881 - val_loss: 0.4110 - val_accuracy: 0.9180\n",
      "Epoch 8/12\n",
      "4500/4500 [==============================] - 1118s 247ms/step - loss: 0.0223 - accuracy: 0.9932 - val_loss: 0.3908 - val_accuracy: 0.9143\n",
      "Epoch 9/12\n",
      "4500/4500 [==============================] - 1111s 246ms/step - loss: 0.0114 - accuracy: 0.9961 - val_loss: 0.4307 - val_accuracy: 0.9150\n",
      "Epoch 10/12\n",
      "4500/4500 [==============================] - 1140s 252ms/step - loss: 0.0059 - accuracy: 0.9981 - val_loss: 0.5346 - val_accuracy: 0.9165\n",
      "Epoch 11/12\n",
      "4500/4500 [==============================] - 1107s 245ms/step - loss: 0.0026 - accuracy: 0.9991 - val_loss: 0.6101 - val_accuracy: 0.9135\n",
      "Epoch 12/12\n",
      "4500/4500 [==============================] - 1071s 237ms/step - loss: 0.0011 - accuracy: 0.9997 - val_loss: 0.5935 - val_accuracy: 0.9170\n"
     ]
    },
    {
     "data": {
      "text/plain": [
       "<keras.callbacks.History at 0x22cbd051ba0>"
      ]
     },
     "execution_count": 42,
     "metadata": {},
     "output_type": "execute_result"
    }
   ],
   "source": [
    "learner.fit_onecycle(\n",
    "    lr = 3e-5,\n",
    "    #3e-5 -- value from smaller runs\n",
    "    #1e-4 -- value from labs,\n",
    "    checkpoint_folder = 'checkpoint',\n",
    "    epochs = 12)"
   ]
  },
  {
   "cell_type": "code",
   "execution_count": 43,
   "metadata": {
    "id": "Z0DZ9oFSpaDi"
   },
   "outputs": [],
   "source": [
    "# Save the learner\n",
    "learner.save_model(\"%s/distilbertmodel_learner\" % DATA_DIR)"
   ]
  },
  {
   "cell_type": "code",
   "execution_count": 44,
   "metadata": {
    "id": "xyLX4Yg3paGG"
   },
   "outputs": [],
   "source": [
    "# Returns a Predictor instance that can be used to make predictions on unlabeled examples\n",
    "predictor = ktrain.get_predictor(learner.model, preproc = preprocess)"
   ]
  },
  {
   "cell_type": "code",
   "execution_count": 45,
   "metadata": {
    "id": "eG3OZQJ0paJJ"
   },
   "outputs": [],
   "source": [
    "# Save the predictor model\n",
    "predictor.save(\"%s/distilbertmodel_predictor\" % DATA_DIR)"
   ]
  },
  {
   "cell_type": "markdown",
   "metadata": {
    "id": "wuSl0NIHp_24"
   },
   "source": [
    "## Validate the Model"
   ]
  },
  {
   "cell_type": "code",
   "execution_count": 51,
   "metadata": {},
   "outputs": [],
   "source": [
    "# Load learner from save (if needed for analysis)\n",
    "#predictor = ktrain.load_predictor(\"%s/distilbertmodel_predictor\" % DATA_DIR)\n",
    "#learner = ktrain.get_learner(predictor.model, train_data=train, val_data=val, batch_size=8)"
   ]
  },
  {
   "cell_type": "code",
   "execution_count": 52,
   "metadata": {
    "id": "s4Q3mKGupaMM"
   },
   "outputs": [
    {
     "name": "stdout",
     "output_type": "stream",
     "text": [
      "125/125 [==============================] - 11s 75ms/step\n",
      "              precision    recall  f1-score   support\n",
      "\n",
      "NOT WELLNESS       0.98      0.93      0.95      1987\n",
      "    WELLNESS       0.94      0.98      0.96      2013\n",
      "\n",
      "    accuracy                           0.95      4000\n",
      "   macro avg       0.96      0.95      0.95      4000\n",
      "weighted avg       0.96      0.95      0.95      4000\n",
      "\n"
     ]
    }
   ],
   "source": [
    "# Returns confusion matrix and optionally prints a classification report.\n",
    "validation = learner.validate(val_data = val,\n",
    "                              print_report = True,\n",
    "                              class_names = target_names)"
   ]
  },
  {
   "cell_type": "markdown",
   "metadata": {
    "id": "rdBiR4e5qIwZ"
   },
   "source": [
    "## Model Evaluation"
   ]
  },
  {
   "cell_type": "code",
   "execution_count": 47,
   "metadata": {
    "id": "9w7RJK7gpapR"
   },
   "outputs": [
    {
     "data": {
      "text/plain": [
       "array([[1780,  149],\n",
       "       [ 183, 1888]], dtype=int64)"
      ]
     },
     "execution_count": 47,
     "metadata": {},
     "output_type": "execute_result"
    }
   ],
   "source": [
    "# Show the data stored in the validation\n",
    "validation"
   ]
  },
  {
   "cell_type": "code",
   "execution_count": 48,
   "metadata": {
    "id": "SytMe3bvparx"
   },
   "outputs": [],
   "source": [
    "# Save confusion matrix and slice into four pieces\n",
    "TP = validation[1, 1]\n",
    "TN = validation[0, 0]\n",
    "FP = validation[0, 1]\n",
    "FN = validation[1, 0]"
   ]
  },
  {
   "cell_type": "code",
   "execution_count": 49,
   "metadata": {
    "id": "-MHrK-IjqUBU"
   },
   "outputs": [],
   "source": [
    "# Calculate metrics from confusion matrix\n",
    "c_accuracy            = (TP + TN) / (TP + TN + FP + FN)\n",
    "c_error               = (FP + FN) / (TP + TN + FP + FN)\n",
    "c_sensitivity         = TP / (TP + FN)\n",
    "c_specificity         = TN / (TN + FP)\n",
    "c_false_positive_rate = FP / (TN + FP)\n",
    "c_precision           = TP / (TP + FP)\n",
    "c_f1                  = (c_sensitivity + c_precision) / 2"
   ]
  },
  {
   "cell_type": "code",
   "execution_count": 50,
   "metadata": {
    "id": "NtxEA93KqUG6"
   },
   "outputs": [
    {
     "name": "stdout",
     "output_type": "stream",
     "text": [
      "Accuracy:\t\t 91.7 %\n",
      "Classification Error:\t 8.3 %\n",
      "Sensitivity / Recall:\t 91.16 %\n",
      "Specificity:\t\t 92.28 %\n",
      "False Positive Rate:\t 7.720000000000001 %\n",
      "Precision:\t\t 92.69 %\n",
      "F1 Score:\t\t 91.92 %\n"
     ]
    }
   ],
   "source": [
    "# Print a summary of additional metrics\n",
    "print('Accuracy:\\t\\t', round(c_accuracy,4)*100, '%')\n",
    "print('Classification Error:\\t', round(c_error,4)*100, '%')\n",
    "print('Sensitivity / Recall:\\t', round(c_sensitivity,4)*100, '%')\n",
    "print('Specificity:\\t\\t', round(c_specificity,4)*100, '%')\n",
    "print('False Positive Rate:\\t', round(c_false_positive_rate,4)*100, '%')\n",
    "print('Precision:\\t\\t', round(c_precision,4)*100, '%')\n",
    "print('F1 Score:\\t\\t', round(c_f1,4)*100, '%')"
   ]
  },
  {
   "cell_type": "markdown",
   "metadata": {},
   "source": [
    "## Testing the model"
   ]
  },
  {
   "cell_type": "code",
   "execution_count": null,
   "metadata": {
    "id": "yhV_DvdeqYb2"
   },
   "outputs": [],
   "source": [
    "# Load predictor from save (if needed for analysis)\n",
    "#predictor = ktrain.load_predictor(\"%s/distilbertmodel_predictor\" % DATA_DIR)\n",
    "#model = ktrain.get_predictor(predictor.model, predictor.preproc)"
   ]
  },
  {
   "cell_type": "code",
   "execution_count": 4,
   "metadata": {
    "id": "6WSl8KL0qYfL"
   },
   "outputs": [],
   "source": [
    "# Sample articles to test sourced on 2023-09-12\n",
    "test_docs = [\n",
    "'Is swimming in cold water good for you? Cold water exposure has arousing and stimulating effects, and it appears to increase many substances that we know are involved in regulating mood.',\n",
    "'For jet lag, a hearty breakfast in the new time zone may help Eating an early meal in the new time zone and avoiding a meal late the night before could mean two fewer days of jet lag, a mathematical model showed.',\n",
    "\n",
    "'Overdoses soared even as prescription opioid shipments plunged The number of prescription opioid pain pills shipped in the United States plummeted nearly 45 percent from 2011 to 2019, federal data shows, even as fatal overdoses hit record levels as users turned to heroin and then fentanyl.',\n",
    "'Thousands missing and feared dead after floods submerge eastern Libya The International Federation of Red Cross and Red Crescent Societies said its independent sources reported up to 10,000 people missing.',\n",
    "'The U.S. commitment to Ukraine has worried me deeply. Then a friend went. Jim and I agree on pretty much everything — just not Ukraine.'\n",
    "             ]"
   ]
  },
  {
   "cell_type": "code",
   "execution_count": 5,
   "metadata": {
    "id": "5vREHbUdqeJH"
   },
   "outputs": [
    {
     "name": "stdout",
     "output_type": "stream",
     "text": [
      "---------------------------\n",
      "The probability this is wellness is 1.0\n",
      "Is swimming in cold water good for you? Cold water exposure has arousing and stimulating effects, and it appears to increase many substances that we know are involved in regulating mood.\n",
      "---------------------------\n",
      "The probability this is wellness is 1.0\n",
      "For jet lag, a hearty breakfast in the new time zone may help Eating an early meal in the new time zone and avoiding a meal late the night before could mean two fewer days of jet lag, a mathematical model showed.\n",
      "---------------------------\n",
      "The probability this is wellness is 0.773\n",
      "Overdoses soared even as prescription opioid shipments plunged The number of prescription opioid pain pills shipped in the United States plummeted nearly 45 percent from 2011 to 2019, federal data shows, even as fatal overdoses hit record levels as users turned to heroin and then fentanyl.\n",
      "---------------------------\n",
      "The probability this is wellness is 0.0\n",
      "Thousands missing and feared dead after floods submerge eastern Libya The International Federation of Red Cross and Red Crescent Societies said its independent sources reported up to 10,000 people missing.\n",
      "---------------------------\n",
      "The probability this is wellness is 0.0\n",
      "The U.S. commitment to Ukraine has worried me deeply. Then a friend went. Jim and I agree on pretty much everything — just not Ukraine.\n"
     ]
    }
   ],
   "source": [
    "# create a prediciton for human sourced articles (no real category assigned)\n",
    "for i, text in enumerate(test_docs):\n",
    "  probs = predictor.predict(text, return_proba=True)\n",
    "  print(\"---------------------------\")\n",
    "  print('The probability this is wellness is %s' % round(probs[1],4))\n",
    "  print(text)"
   ]
  },
  {
   "cell_type": "markdown",
   "metadata": {},
   "source": [
    "## Predict All Articles in Dataset"
   ]
  },
  {
   "cell_type": "code",
   "execution_count": 53,
   "metadata": {
    "id": "uZ47OhMSqeP4"
   },
   "outputs": [],
   "source": [
    "# create a prediciton for all articles in corpus\n",
    "val_probs = predictor.predict(list(df_news['combined_text']), return_proba=True)"
   ]
  },
  {
   "cell_type": "code",
   "execution_count": 54,
   "metadata": {
    "id": "WqCZkmoeqeSx"
   },
   "outputs": [
    {
     "data": {
      "text/html": [
       "<div>\n",
       "<style scoped>\n",
       "    .dataframe tbody tr th:only-of-type {\n",
       "        vertical-align: middle;\n",
       "    }\n",
       "\n",
       "    .dataframe tbody tr th {\n",
       "        vertical-align: top;\n",
       "    }\n",
       "\n",
       "    .dataframe thead th {\n",
       "        text-align: right;\n",
       "    }\n",
       "</style>\n",
       "<table border=\"1\" class=\"dataframe\">\n",
       "  <thead>\n",
       "    <tr style=\"text-align: right;\">\n",
       "      <th></th>\n",
       "      <th>category</th>\n",
       "      <th>headline</th>\n",
       "      <th>authors</th>\n",
       "      <th>link</th>\n",
       "      <th>short_description</th>\n",
       "      <th>date</th>\n",
       "      <th>combined_text</th>\n",
       "      <th>wellness</th>\n",
       "      <th>text_length</th>\n",
       "      <th>word_count</th>\n",
       "      <th>pred_proba</th>\n",
       "      <th>pred</th>\n",
       "      <th>pred_acc</th>\n",
       "    </tr>\n",
       "  </thead>\n",
       "  <tbody>\n",
       "    <tr>\n",
       "      <th>0</th>\n",
       "      <td>CRIME</td>\n",
       "      <td>There Were 2 Mass Shootings In Texas Last Week...</td>\n",
       "      <td>Melissa Jeltsen</td>\n",
       "      <td>https://www.huffingtonpost.com/entry/texas-ama...</td>\n",
       "      <td>She left her husband. He killed their children...</td>\n",
       "      <td>2018-05-26</td>\n",
       "      <td>There Were 2 Mass Shootings In Texas Last Week...</td>\n",
       "      <td>0</td>\n",
       "      <td>141</td>\n",
       "      <td>31</td>\n",
       "      <td>0.000005</td>\n",
       "      <td>0</td>\n",
       "      <td>True</td>\n",
       "    </tr>\n",
       "    <tr>\n",
       "      <th>1</th>\n",
       "      <td>ENTERTAINMENT</td>\n",
       "      <td>Will Smith Joins Diplo And Nicky Jam For The 2...</td>\n",
       "      <td>Andy McDonald</td>\n",
       "      <td>https://www.huffingtonpost.com/entry/will-smit...</td>\n",
       "      <td>Of course it has a song.</td>\n",
       "      <td>2018-05-26</td>\n",
       "      <td>Will Smith Joins Diplo And Nicky Jam For The 2...</td>\n",
       "      <td>0</td>\n",
       "      <td>100</td>\n",
       "      <td>22</td>\n",
       "      <td>0.000005</td>\n",
       "      <td>0</td>\n",
       "      <td>True</td>\n",
       "    </tr>\n",
       "  </tbody>\n",
       "</table>\n",
       "</div>"
      ],
      "text/plain": [
       "        category                                           headline  \\\n",
       "0          CRIME  There Were 2 Mass Shootings In Texas Last Week...   \n",
       "1  ENTERTAINMENT  Will Smith Joins Diplo And Nicky Jam For The 2...   \n",
       "\n",
       "           authors                                               link  \\\n",
       "0  Melissa Jeltsen  https://www.huffingtonpost.com/entry/texas-ama...   \n",
       "1    Andy McDonald  https://www.huffingtonpost.com/entry/will-smit...   \n",
       "\n",
       "                                   short_description       date  \\\n",
       "0  She left her husband. He killed their children... 2018-05-26   \n",
       "1                           Of course it has a song. 2018-05-26   \n",
       "\n",
       "                                       combined_text  wellness  text_length  \\\n",
       "0  There Were 2 Mass Shootings In Texas Last Week...         0          141   \n",
       "1  Will Smith Joins Diplo And Nicky Jam For The 2...         0          100   \n",
       "\n",
       "   word_count  pred_proba  pred  pred_acc  \n",
       "0          31    0.000005     0      True  \n",
       "1          22    0.000005     0      True  "
      ]
     },
     "execution_count": 54,
     "metadata": {},
     "output_type": "execute_result"
    }
   ],
   "source": [
    "# add predictions to dataframe\n",
    "df_news['pred_proba'] = val_probs[:,1]\n",
    "df_news['pred'] = np.where(df_news['pred_proba']>0.5, 1, 0)\n",
    "df_news['pred_acc'] = (df_news['pred'] == df_news['wellness'])\n",
    "df_news.head(2)"
   ]
  },
  {
   "cell_type": "code",
   "execution_count": 55,
   "metadata": {
    "id": "rpdPrUr9qeVt"
   },
   "outputs": [
    {
     "data": {
      "text/html": [
       "<div>\n",
       "<style scoped>\n",
       "    .dataframe tbody tr th:only-of-type {\n",
       "        vertical-align: middle;\n",
       "    }\n",
       "\n",
       "    .dataframe tbody tr th {\n",
       "        vertical-align: top;\n",
       "    }\n",
       "\n",
       "    .dataframe thead th {\n",
       "        text-align: right;\n",
       "    }\n",
       "</style>\n",
       "<table border=\"1\" class=\"dataframe\">\n",
       "  <thead>\n",
       "    <tr style=\"text-align: right;\">\n",
       "      <th></th>\n",
       "      <th>count</th>\n",
       "    </tr>\n",
       "    <tr>\n",
       "      <th>pred_acc</th>\n",
       "      <th></th>\n",
       "    </tr>\n",
       "  </thead>\n",
       "  <tbody>\n",
       "    <tr>\n",
       "      <th>True</th>\n",
       "      <td>187921</td>\n",
       "    </tr>\n",
       "    <tr>\n",
       "      <th>False</th>\n",
       "      <td>12926</td>\n",
       "    </tr>\n",
       "  </tbody>\n",
       "</table>\n",
       "</div>"
      ],
      "text/plain": [
       "           count\n",
       "pred_acc        \n",
       "True      187921\n",
       "False      12926"
      ]
     },
     "execution_count": 55,
     "metadata": {},
     "output_type": "execute_result"
    }
   ],
   "source": [
    "# summarize record level flagging of accuracy in source data\n",
    "pd.DataFrame(df_news['pred_acc'].value_counts())"
   ]
  },
  {
   "cell_type": "code",
   "execution_count": 56,
   "metadata": {
    "id": "5pUgrbrbqpan"
   },
   "outputs": [
    {
     "data": {
      "image/png": "[encoded data removed]",
      "text/plain": [
       "<Figure size 600x100 with 1 Axes>"
      ]
     },
     "metadata": {},
     "output_type": "display_data"
    }
   ],
   "source": [
    "# Create a summary of the accuracy\n",
    "df_pred_count = pd.DataFrame(df_news['pred_acc'].value_counts()).reset_index()\n",
    "df_pred_count.columns = ['category', 'count']\n",
    "dict_target_names = {False: 'Not Accurate', True: 'Accurate'}\n",
    "df_pred_count['category'].replace(dict_target_names, inplace=True)\n",
    "# Create a summary bar chart of categories\n",
    "f = plt.figure(figsize=(6,1))\n",
    "sns.barplot(x = 'count',\n",
    "            y = 'category',\n",
    "            data = df_pred_count,\n",
    "            color = 'steelblue'\n",
    "            ).set(title='Data Accuracy for All Data',)\n",
    "plt.show()"
   ]
  },
  {
   "cell_type": "code",
   "execution_count": 57,
   "metadata": {
    "id": "5sLbvf_wqpge"
   },
   "outputs": [],
   "source": [
    "# Dump the evaluation dataframe to a file\n",
    "pickle.dump(df_news, open('%s/all_pred.p' % (EVAL_DIR), 'wb'))"
   ]
  },
  {
   "cell_type": "code",
   "execution_count": 7,
   "metadata": {
    "id": "nnqN2zKSqskk"
   },
   "outputs": [],
   "source": [
    "# Load the evaluation dataframe (if needed)\n",
    "#df_news = pd.read_pickle(r'./evaluation/all_pred.p')"
   ]
  },
  {
   "cell_type": "code",
   "execution_count": 11,
   "metadata": {
    "id": "kElHsabuqsrE"
   },
   "outputs": [],
   "source": [
    "# Create a dataframe to focus only on wellness articles (subset)\n",
    "df_news_target = df_news[df_news['wellness'] == 1]"
   ]
  },
  {
   "cell_type": "code",
   "execution_count": 12,
   "metadata": {
    "id": "Zd_HvqIYqst9"
   },
   "outputs": [
    {
     "data": {
      "image/png": "[encoded data removed]",
      "text/plain": [
       "<Figure size 600x100 with 1 Axes>"
      ]
     },
     "metadata": {},
     "output_type": "display_data"
    }
   ],
   "source": [
    "# Create a summary of the wellness predictions\n",
    "df_pred_count = pd.DataFrame(df_news_target['pred_acc'].value_counts()).reset_index()\n",
    "df_pred_count.columns = ['category', 'count']\n",
    "dict_target_names = {False: 'Not Accurate', True: 'Accurate'}\n",
    "df_pred_count['category'].replace(dict_target_names, inplace=True)\n",
    "# Create a summary bar chart of categories\n",
    "f = plt.figure(figsize=(6,1))\n",
    "sns.barplot(x = 'count',\n",
    "            y = 'category',\n",
    "            data = df_pred_count,\n",
    "            color = 'steelblue'\n",
    "            ).set(title='Data Accuracy for True Positives',)\n",
    "plt.show()"
   ]
  },
  {
   "cell_type": "markdown",
   "metadata": {
    "id": "caErGXknrAN-"
   },
   "source": [
    "## Results\n",
    "The newly built model was able to meet and exceed expectations for the sensitivity (recall) of the model. It achieved a sensitivity 4% higher than the baseline (93% vs. 89%). Again, sensitivity is the true positive rate, or how often the prediction is correct, for actual positive values. By increasing this metric, the company can capture more websites aligned to their target customer base.\n",
    "\n",
    "\n",
    "In addition, the metrics, including F1 Score, are all above 90% and exceeded the expected baseline metrics. This is a positive indicator that the model will satisfy the customers needs and drive improved customer success for their marketing campaign."
   ]
  },
  {
   "cell_type": "code",
   "execution_count": 53,
   "metadata": {},
   "outputs": [
    {
     "ename": "NameError",
     "evalue": "name 'c_sensitivity' is not defined",
     "output_type": "error",
     "traceback": [
      "\u001b[1;31m---------------------------------------------------------------------------\u001b[0m",
      "\u001b[1;31mNameError\u001b[0m                                 Traceback (most recent call last)",
      "Cell \u001b[1;32mIn[53], line 5\u001b[0m\n\u001b[0;32m      3\u001b[0m Baseline  \u001b[38;5;241m=\u001b[39m [\u001b[38;5;241m.89\u001b[39m, \u001b[38;5;241m.87\u001b[39m, \u001b[38;5;28;01mNone\u001b[39;00m, \u001b[38;5;241m.85\u001b[39m, \u001b[38;5;241m.86\u001b[39m]\n\u001b[0;32m      4\u001b[0m \u001b[38;5;66;03m#New_Model = [.93, .92,  .92, .92, .92]\u001b[39;00m\n\u001b[1;32m----> 5\u001b[0m New_Model \u001b[38;5;241m=\u001b[39m [\u001b[38;5;28mround\u001b[39m(\u001b[43mc_sensitivity\u001b[49m,\u001b[38;5;241m2\u001b[39m), \u001b[38;5;28mround\u001b[39m(c_f1,\u001b[38;5;241m2\u001b[39m),  \u001b[38;5;28mround\u001b[39m(c_specificity,\u001b[38;5;241m2\u001b[39m), \u001b[38;5;28mround\u001b[39m(c_precision,\u001b[38;5;241m2\u001b[39m), \u001b[38;5;28mround\u001b[39m(c_accuracy,\u001b[38;5;241m2\u001b[39m)]\n\u001b[0;32m      6\u001b[0m \u001b[38;5;66;03m# Buildresults dataframe\u001b[39;00m\n\u001b[0;32m      7\u001b[0m dict_res \u001b[38;5;241m=\u001b[39m {\u001b[38;5;124m'\u001b[39m\u001b[38;5;124mMetric\u001b[39m\u001b[38;5;124m'\u001b[39m: Metric, \u001b[38;5;124m'\u001b[39m\u001b[38;5;124mBaseline\u001b[39m\u001b[38;5;124m'\u001b[39m: Baseline, \u001b[38;5;124m'\u001b[39m\u001b[38;5;124mNew Model\u001b[39m\u001b[38;5;124m'\u001b[39m: New_Model}\n",
      "\u001b[1;31mNameError\u001b[0m: name 'c_sensitivity' is not defined"
     ]
    }
   ],
   "source": [
    "# Define numbers for results grid\n",
    "Metric    = ['Recall', 'F1 Score', 'Specificity', 'Precision', 'Accuracy']\n",
    "Baseline  = [.89, .87, None, .85, .86]\n",
    "#New_Model = [.93, .92,  .92, .92, .92]\n",
    "New_Model = [round(c_sensitivity,2), round(c_f1,2),  round(c_specificity,2), round(c_precision,2), round(c_accuracy,2)]\n",
    "# Buildresults dataframe\n",
    "dict_res = {'Metric': Metric, 'Baseline': Baseline, 'New Model': New_Model}\n",
    "def_res = pd.DataFrame(dict_res)\n",
    "def_res['% Improvement'] = def_res['New Model'] - def_res['Baseline']\n",
    "# Display results\n",
    "print('Final Model Results and Metrics', '\\n')\n",
    "def_res"
   ]
  },
  {
   "cell_type": "code",
   "execution_count": null,
   "metadata": {},
   "outputs": [],
   "source": []
  }
 ],
 "metadata": {
  "accelerator": "GPU",
  "colab": {
   "gpuType": "T4",
   "provenance": []
  },
  "kernelspec": {
   "display_name": "text-classification",
   "language": "python",
   "name": "text-classification"
  },
  "language_info": {
   "codemirror_mode": {
    "name": "ipython",
    "version": 3
   },
   "file_extension": ".py",
   "mimetype": "text/x-python",
   "name": "python",
   "nbconvert_exporter": "python",
   "pygments_lexer": "ipython3",
   "version": "3.10.13"
  },
  "toc": {
   "base_numbering": 1,
   "nav_menu": {},
   "number_sections": true,
   "sideBar": true,
   "skip_h1_title": true,
   "title_cell": "Table of Contents",
   "title_sidebar": "Contents",
   "toc_cell": false,
   "toc_position": {},
   "toc_section_display": true,
   "toc_window_display": false
  }
 },
 "nbformat": 4,
 "nbformat_minor": 4
}
